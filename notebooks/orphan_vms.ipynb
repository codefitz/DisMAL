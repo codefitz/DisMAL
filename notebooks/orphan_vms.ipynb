{
 "cells": [
  {
   "cell_type": "markdown",
   "id": "intro-title",
   "metadata": {},
   "source": [
    "# Orphan VMs (BMC Discovery)\n",
    "\n",
    "This notebook reproduces the DisMAL `orphan_vms` report: Hosts marked as virtual that are not related to a container VirtualMachine.\n",
    "It reads connection details from `config.yaml`, queries the appliance, and writes `dq_orphan_vms.csv` under `output_<target>`."
   ]
  },
  {
   "cell_type": "markdown",
   "id": "requirements",
   "metadata": {},
   "source": [
    "## Requirements\n",
    "\n",
    "We use `tideway` from pip (remote), plus `pandas` and `PyYAML`.\n",
    "Uncomment the following to install in your environment if needed."
   ]
  },
  {
   "cell_type": "code",
   "execution_count": null,
   "id": "imports",
   "metadata": {},
   "outputs": [],
   "source": [
    "# %pip install -q tideway pandas pyyaml\n",
    "\n",
    "import os, sys\n",
    "from pathlib import Path\n",
    "from typing import Any, Dict, List\n",
    "import pandas as pd\n",
    "import yaml\n"
   ]
  },
  {
   "cell_type": "markdown",
   "id": "select-appliance",
   "metadata": {},
   "source": [
    "## Select Appliance (optional)\n",
    "\n",
    "If your `config.yaml` defines multiple appliances under the `appliances:` list,\n",
    "set `APPLIANCE_NAME` to one of their names (e.g., 'prod' or 'dev') or use the index.\n",
    "Defaults to the first appliance if neither is set."
   ]
  },
  {
   "cell_type": "code",
   "execution_count": null,
   "id": "appliance-vars",
   "metadata": {},
   "outputs": [],
   "source": [
    "APPLIANCE_NAME = None   # e.g., 'prod' or 'dev'\n",
    "APPLIANCE_INDEX = 0     # integer index if not using name selection\n"
   ]
  },
  {
   "cell_type": "markdown",
   "id": "config-load",
   "metadata": {},
   "source": [
    "## Configuration (from config.yaml)\n",
    "\n",
    "Reads settings from `../config.yaml` including target, token/token_file,\n",
    "API version, and SSL verification preference.\n",
    "Saves the CSV to `../output_<target>/dq_orphan_vms.csv`."
   ]
  },
  {
   "cell_type": "code",
   "execution_count": null,
   "id": "config-cell",
   "metadata": {},
   "outputs": [],
   "source": [
    "def _find_repo_root(start: Path) -> Path:\n",
    "    for p in [start] + list(start.parents):\n",
    "        if (p / 'config.yaml').exists():\n",
    "            return p\n",
    "    return start.parent\n",
    "\n",
    "repo_root = _find_repo_root(Path.cwd())\n",
    "config_path = repo_root / 'config.yaml'\n",
    "with open(config_path, 'r') as fh:\n",
    "    cfg = yaml.safe_load(fh) or {}\n",
    "\n",
    "# Appliance selection\n",
    "apps = cfg.get('appliances') or []\n",
    "selected = None\n",
    "if isinstance(apps, list) and apps:\n",
    "    if APPLIANCE_NAME:\n",
    "        selected = next((a for a in apps if a.get('name') == APPLIANCE_NAME), None)\n",
    "        if selected is None:\n",
    "            raise ValueError(f\"No appliance named '{APPLIANCE_NAME}' in config.yaml\")\n",
    "    else:\n",
    "        try:\n",
    "            selected = apps[int(APPLIANCE_INDEX)]\n",
    "        except Exception:\n",
    "            selected = apps[0]\n",
    "\n",
    "target = ((selected or {}).get('target') or cfg.get('target') or '').strip()\n",
    "if not target:\n",
    "    raise ValueError('config.yaml missing \"target\"')\n",
    "\n",
    "# Token handling: inline token or token file\n",
    "token = (((selected or {}).get('token') or cfg.get('token') or '').strip())\n",
    "token_file = (selected or {}).get('token_file') or cfg.get('token_file') or cfg.get('f_token')\n",
    "if not token and token_file:\n",
    "    tf_path = Path(token_file)\n",
    "    if not tf_path.is_absolute():\n",
    "        tf_path = repo_root / tf_path\n",
    "    with open(tf_path, 'r') as tf:\n",
    "        token = tf.read().strip()\n",
    "if not token:\n",
    "    raise ValueError('API token not found in config.yaml (token or token_file)')\n",
    "\n",
    "# Version and SSL\n",
    "API_VERSION = str((selected or {}).get('api_version') or cfg.get('api_version') or 'v1.14')\n",
    "VERIFY_SSL = bool((selected or {}).get('verify_ssl', cfg.get('verify_ssl', True)))\n",
    "\n",
    "# Output path\n",
    "sanitized = target.replace('.', '_').replace(':', '_').replace('/', '_')\n",
    "output_dir = repo_root / f'output_{sanitized}'\n",
    "output_dir.mkdir(parents=True, exist_ok=True)\n",
    "\n",
    "print('Base Host      :', target)\n",
    "print('API Version    :', API_VERSION)\n",
    "print('Verify SSL     :', VERIFY_SSL)\n",
    "print('Output folder  :', output_dir)\n",
    "print('Token set      :', bool(token))\n",
    "\n",
    "# Import tideway from pip; install if needed (respects PIP_INDEX_URL/PIP_EXTRA_INDEX_URL)\n",
    "try:\n",
    "    import tideway  # type: ignore\n",
    "except Exception:\n",
    "    import subprocess\n",
    "    print('Installing tideway via pip...')\n",
    "    subprocess.check_call([sys.executable, '-m', 'pip', 'install', 'tideway'])\n",
    "    import tideway  # retry\n",
    "\n",
    "API_VERSION_NUM = API_VERSION.lstrip('v')\n",
    "app = tideway.appliance(target, token, api_version=API_VERSION_NUM, ssl_verify=VERIFY_SSL)\n",
    "twsearch = app.data()\n",
    "\n",
    "# Quick probe (optional)\n",
    "try:\n",
    "    about = app.api_about\n",
    "    print('Appliance reachable:', about.status_code)\n",
    "except Exception as e:\n",
    "    print('Warning: failed to contact appliance /api/about:', e)\n"
   ]
  },
  {
   "cell_type": "markdown",
   "id": "query",
   "metadata": {},
   "source": [
    "## Query\n",
    "\n",
    "The TWQL mirrors `core/queries.py:orphan_vms`."
   ]
  },
  {
   "cell_type": "code",
   "execution_count": null,
   "id": "query-code",
   "metadata": {},
   "outputs": [],
   "source": [
    "qry_orphan_vms = '''\n",
    "                    search Host\n",
    "                    where virtual\n",
    "                    and nodecount(traverse ContainedHost:HostContainment:HostContainer:VirtualMachine) = 0\n",
    "                    order by name\n",
    "                    show\n",
    "                    hostname,\n",
    "                    hash(hostname) as 'hashed_hostname',\n",
    "                    os,\n",
    "                    #InferredElement:Inference:Primary:DeviceInfo.os_type as 'OS_Type',\n",
    "                    virtual,\n",
    "                    cloud,\n",
    "                    #InferredElement:Inference:Associate:DiscoveryAccess.endpoint as 'endpoint',\n",
    "                    vendor,\n",
    "                    vm_class\n",
    "                '''\n"
   ]
  },
  {
   "cell_type": "markdown",
   "id": "helpers",
   "metadata": {},
   "source": [
    "## Helpers (normalization)"
   ]
  },
  {
   "cell_type": "code",
   "execution_count": null,
   "id": "helpers-code",
   "metadata": {},
   "outputs": [],
   "source": [
    "def list_table_to_json(table_like: List[List[Any]]) -> List[Dict[str, Any]]:\n",
    "    if not table_like or not isinstance(table_like, list):\n",
    "        return []\n",
    "    if not table_like or not isinstance(table_like[0], list):\n",
    "        return []\n",
    "    headers = table_like[0]\n",
    "    rows = table_like[1:]\n",
    "    out: List[Dict[str, Any]] = []\n",
    "    for r in rows:\n",
    "        try:\n",
    "            out.append(dict(zip(headers, r)))\n",
    "        except Exception:\n",
    "            continue\n",
    "    return out\n",
    "\n",
    "def to_rows(payload: Any) -> List[Dict[str, Any]]:\n",
    "    if isinstance(payload, list):\n",
    "        if payload and isinstance(payload[0], list):\n",
    "            return list_table_to_json(payload)\n",
    "        if payload and isinstance(payload[0], dict):\n",
    "            return payload\n",
    "        return []\n",
    "    if hasattr(payload, 'json'):\n",
    "        try:\n",
    "            js = payload.json()\n",
    "        except Exception:\n",
    "            return []\n",
    "        if isinstance(js, list):\n",
    "            if js and isinstance(js[0], list):\n",
    "                return list_table_to_json(js)\n",
    "            if js and isinstance(js[0], dict):\n",
    "                return js\n",
    "        if isinstance(js, dict) and 'results' in js and 'headings' in js:\n",
    "            table_like = [js['headings']] + list(js.get('results') or [])\n",
    "            return list_table_to_json(table_like)\n",
    "        return []\n",
    "    if isinstance(payload, dict) and 'results' in payload and 'headings' in payload:\n",
    "        table_like = [payload['headings']] + list(payload.get('results') or [])\n",
    "        return list_table_to_json(table_like)\n",
    "    return []\n"
   ]
  },
  {
   "cell_type": "markdown",
   "id": "run-query",
   "metadata": {},
   "source": [
    "## Run search and normalize\n",
    "\n",
    "Executes the query via Tideway Data API and converts to a DataFrame."
   ]
  },
  {
   "cell_type": "code",
   "execution_count": null,
   "id": "run-query-code",
   "metadata": {},
   "outputs": [],
   "source": [
    "rows = to_rows(twsearch.search({'query': qry_orphan_vms}, format='object', limit=0))\n",
    "df = pd.DataFrame(rows)\n",
    "print(f'Total rows: {len(df)}')\n",
    "display(df.head(20)) if not df.empty else print('No records returned.')\n"
   ]
  },
  {
   "cell_type": "markdown",
   "id": "save",
   "metadata": {},
   "source": [
    "## Save CSV\n",
    "\n",
    "Insert 'Discovery Instance' as the first column and save to `output_<target>/dq_orphan_vms.csv`."
   ]
  },
  {
   "cell_type": "code",
   "execution_count": null,
   "id": "save-code",
   "metadata": {},
   "outputs": [],
   "source": [
    "df_out = df.copy()\n",
    "df_out.insert(0, 'Discovery Instance', target)\n",
    "other_cols = sorted([c for c in df_out.columns if c != 'Discovery Instance'])\n",
    "df_out = df_out[['Discovery Instance'] + other_cols]\n",
    "\n",
    "display(df_out.head(20)) if not df_out.empty else print('No records to save.')\n",
    "\n",
    "OUTPUT_CSV = str(output_dir / 'dq_orphan_vms.csv')\n",
    "df_out.to_csv(OUTPUT_CSV, index=False)\n",
    "print(f'Saved to {OUTPUT_CSV}')\n"
   ]
  },
  {
   "cell_type": "code",
   "execution_count": null,
   "id": "footer-empty",
   "metadata": {},
   "outputs": [],
   "source": []
  }
 ],
 "metadata": {
  "kernelspec": {
   "display_name": "Python 3 (ipykernel)",
   "language": "python",
   "name": "python3"
  },
  "language_info": {
   "codemirror_mode": {
    "name": "ipython",
    "version": 3
   },
   "file_extension": ".py",
   "mimetype": "text/x-python",
   "name": "python",
   "nbconvert_exporter": "python",
   "pygments_lexer": "ipython3",
   "version": "3.13.7"
  }
 },
 "nbformat": 4,
 "nbformat_minor": 5
}
