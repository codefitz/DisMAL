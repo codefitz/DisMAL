{
 "cells": [
  {
   "cell_type": "markdown",
   "id": "intro-title",
   "metadata": {},
   "source": [
    "# TKU Report (BMC Discovery)\n",
    "\n",
    "This notebook reproduces the DisMAL `tku` report using the Tideway library,\n",
    "without importing DisMAL modules. It reads `config.yaml`, queries the\n",
    "knowledge endpoint for the latest TKU/EDP/Storage uploads, and writes a CSV\n",
    "under `output_<target>/tku.csv`."
   ]
  },
  {
   "cell_type": "markdown",
   "id": "requirements",
   "metadata": {},
   "source": [
    "## Requirements\n",
    "\n",
    "Uncomment the next cell to install dependencies in your environment if needed."
   ]
  },
  {
   "cell_type": "code",
   "execution_count": null,
   "id": "imports",
   "metadata": {},
   "outputs": [],
   "source": [
    "# %pip install -q tideway pandas pyyaml\n",
    "\n",
    "import os, sys\n",
    "from pathlib import Path\n",
    "import pandas as pd\n",
    "import yaml\n",
    "from typing import Any\n"
   ]
  },
  {
   "cell_type": "markdown",
   "id": "select-appliance",
   "metadata": {},
   "source": [
    "## Select Appliance (optional)\n",
    "\n",
    "If `config.yaml` has multiple appliances, set by name or index. Defaults to the first."
   ]
  },
  {
   "cell_type": "code",
   "execution_count": null,
   "id": "appliance-vars",
   "metadata": {},
   "outputs": [],
   "source": [
    "APPLIANCE_NAME = None   # e.g., 'prod' or 'dev'\n",
    "APPLIANCE_INDEX = 1     # integer index if not using name selection\n"
   ]
  },
  {
   "cell_type": "markdown",
   "id": "config-load",
   "metadata": {},
   "source": [
    "## Configuration (from config.yaml)\n",
    "\n",
    "Loads target, token/token_file, API version, and SSL flag.\n",
    "Creates `output_<target>` for saving the CSV."
   ]
  },
  {
   "cell_type": "code",
   "execution_count": null,
   "id": "config-cell",
   "metadata": {},
   "outputs": [],
   "source": [
    "def _find_repo_root(start: Path) -> Path:\n",
    "    for p in [start] + list(start.parents):\n",
    "        if (p / 'config.yaml').exists():\n",
    "            return p\n",
    "    return start.parent\n",
    "\n",
    "repo_root = _find_repo_root(Path.cwd())\n",
    "config_path = repo_root / 'config.yaml'\n",
    "with open(config_path, 'r') as fh:\n",
    "    cfg = yaml.safe_load(fh) or {}\n",
    "\n",
    "apps = cfg.get('appliances') or []\n",
    "selected = None\n",
    "if isinstance(apps, list) and apps:\n",
    "    if APPLIANCE_NAME:\n",
    "        selected = next((a for a in apps if a.get('name') == APPLIANCE_NAME), None)\n",
    "        if selected is None:\n",
    "            raise ValueError(f\"No appliance named '{APPLIANCE_NAME}' in config.yaml\")\n",
    "    else:\n",
    "        try:\n",
    "            selected = apps[int(APPLIANCE_INDEX)]\n",
    "        except Exception:\n",
    "            selected = apps[0]\n",
    "\n",
    "target = ((selected or {}).get('target') or cfg.get('target') or '').strip()\n",
    "if not target:\n",
    "    raise ValueError('config.yaml missing \"target\"')\n",
    "\n",
    "token = (((selected or {}).get('token') or cfg.get('token') or '').strip())\n",
    "token_file = (selected or {}).get('token_file') or cfg.get('token_file') or cfg.get('f_token')\n",
    "if not token and token_file:\n",
    "    tf_path = Path(token_file)\n",
    "    if not tf_path.is_absolute():\n",
    "        tf_path = repo_root / tf_path\n",
    "    with open(tf_path, 'r') as tf:\n",
    "        token = tf.read().strip()\n",
    "if not token:\n",
    "    raise ValueError('API token not found in config.yaml (token or token_file)')\n",
    "\n",
    "API_VERSION = str((selected or {}).get('api_version') or cfg.get('api_version') or 'v1.14')\n",
    "VERIFY_SSL = bool((selected or {}).get('verify_ssl', cfg.get('verify_ssl', True)))\n",
    "\n",
    "sanitized = target.replace('.', '_').replace(':', '_').replace('/', '_')\n",
    "output_dir = repo_root / f'output_{sanitized}'\n",
    "output_dir.mkdir(parents=True, exist_ok=True)\n",
    "\n",
    "print('Base Host     :', target)\n",
    "print('API Version   :', API_VERSION)\n",
    "print('Verify SSL    :', VERIFY_SSL)\n",
    "print('Output folder :', output_dir)\n",
    "\n",
    "# Prefer local Tideway package if present\n",
    "local_tideway = repo_root / 'Tideway'\n",
    "if local_tideway.exists():\n",
    "    sys.path.insert(0, str(local_tideway))\n",
    "import importlib\n",
    "tideway = importlib.import_module('tideway')\n",
    "API_VERSION_NUM = API_VERSION.lstrip('v')\n",
    "app = tideway.appliance(target, token, api_version=API_VERSION_NUM, ssl_verify=VERIFY_SSL)\n",
    "twknowledge = app.knowledge()\n",
    "try:\n",
    "    about = app.api_about\n",
    "    print('Appliance reachable:', about.status_code)\n",
    "except Exception as e:\n",
    "    print('Warning: failed to contact appliance /api/about:', e)\n"
   ]
  },
  {
   "cell_type": "markdown",
   "id": "helpers",
   "metadata": {},
   "source": [
    "## Helpers\n",
    "\n",
    "Small utilities to safely parse responses and extract knowledge fields."
   ]
  },
  {
   "cell_type": "code",
   "execution_count": null,
   "id": "helpers-code",
   "metadata": {},
   "outputs": [],
   "source": [
    "def get_json(resp_or_obj: Any):\n",
    "    if hasattr(resp_or_obj, 'json'):\n",
    "        try:\n",
    "            return resp_or_obj.json()\n",
    "        except Exception:\n",
    "            return {}\n",
    "    return resp_or_obj or {}\n",
    "\n",
    "def extract_latest_k(knowledge: dict):\n",
    "    # Fallback to 'Not installed' if keys are absent\n",
    "    tku = (knowledge.get('latest_tku') or {}).get('name') or 'Not installed'\n",
    "    edp = (knowledge.get('latest_edp') or {}).get('name') or 'Not installed'\n",
    "    storage = (knowledge.get('latest_storage') or {}).get('name') or 'Not installed'\n",
    "    return tku, edp, storage\n"
   ]
  },
  {
   "cell_type": "markdown",
   "id": "fetch-knowledge",
   "metadata": {},
   "source": [
    "## Fetch Knowledge\n",
    "\n",
    "Queries `/knowledge` to obtain latest TKU/EDP/Storage info."
   ]
  },
  {
   "cell_type": "code",
   "execution_count": null,
   "id": "fetch-knowledge-code",
   "metadata": {},
   "outputs": [],
   "source": [
    "# get_knowledge is a method; call it to obtain the HTTP response\n",
    "resp = twknowledge.get_knowledge()\n",
    "info = get_json(resp)\n",
    "print('HTTP ok/status:', getattr(resp, 'ok', None), getattr(resp, 'status_code', None))\n",
    "print('Knowledge keys:', list(info.keys())[:10])\n",
    "info\n"
   ]
  },
  {
   "cell_type": "markdown",
   "id": "build-output",
   "metadata": {},
   "source": [
    "## Build TKU Output\n",
    "\n",
    "Converts the knowledge snapshot into a small CSV table.\n",
    "Schema matches the CLI: two columns — `Discovery Instance` and `TKU`.\n",
    "Three rows are emitted (TKU, EDP, Storage)."
   ]
  },
  {
   "cell_type": "code",
   "execution_count": null,
   "id": "build-output-code",
   "metadata": {},
   "outputs": [],
   "source": [
    "tku, edp, storage = extract_latest_k(info or {})\n",
    "rows = [\n",
    "    [target, tku],\n",
    "    [target, edp],\n",
    "    [target, storage],\n",
    "]\n",
    "df_out = pd.DataFrame(rows, columns=['Discovery Instance','TKU'])\n",
    "df_out\n"
   ]
  },
  {
   "cell_type": "markdown",
   "id": "save-csv",
   "metadata": {},
   "source": [
    "## Save to CSV\n",
    "\n",
    "Writes `tku.csv` to the standard output folder."
   ]
  },
  {
   "cell_type": "code",
   "execution_count": null,
   "id": "save-csv-code",
   "metadata": {},
   "outputs": [],
   "source": [
    "OUTPUT_CSV = str(output_dir / 'tku.csv')\n",
    "df_out.to_csv(OUTPUT_CSV, index=False)\n",
    "print(f'Saved to {OUTPUT_CSV}')\n"
   ]
  },
  {
   "cell_type": "code",
   "execution_count": null,
   "id": "00e42474-9380-48ca-af59-21d7ae6500c2",
   "metadata": {},
   "outputs": [],
   "source": []
  }
 ],
 "metadata": {
  "kernelspec": {
   "display_name": "Python 3 (ipykernel)",
   "language": "python",
   "name": "python3"
  },
  "language_info": {
   "codemirror_mode": {
    "name": "ipython",
    "version": 3
   },
   "file_extension": ".py",
   "mimetype": "text/x-python",
   "name": "python",
   "nbconvert_exporter": "python",
   "pygments_lexer": "ipython3",
   "version": "3.12.3"
  }
 },
 "nbformat": 4,
 "nbformat_minor": 5
}
